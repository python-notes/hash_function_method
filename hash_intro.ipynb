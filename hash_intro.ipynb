{
 "cells": [
  {
   "metadata": {},
   "cell_type": "markdown",
   "source": [
    "#  HASH\n",
    "\n",
    "---\n",
    "\n",
    "Визначення:\n",
    "\n",
    "хеш-функція - приймає обʼєкт що допускає хешування і повертає числове значення.\n",
    "\n",
    "Операцію отримання для обʼєкта значення хеш-функції інколи називають хешуванням.\n",
    "\n",
    "Python має вбудовану функцію hash() для хешування обʼєктів."
   ],
   "id": "c5bf1acc13144f26"
  },
  {
   "cell_type": "code",
   "id": "initial_id",
   "metadata": {
    "collapsed": true,
    "ExecuteTime": {
     "end_time": "2025-01-04T17:16:26.655695Z",
     "start_time": "2025-01-04T17:16:26.650732Z"
    }
   },
   "source": "hash(\"some string\")",
   "outputs": [
    {
     "data": {
      "text/plain": [
       "-3191768918385310049"
      ]
     },
     "execution_count": 1,
     "metadata": {},
     "output_type": "execute_result"
    }
   ],
   "execution_count": 1
  },
  {
   "metadata": {
    "ExecuteTime": {
     "end_time": "2025-01-04T17:17:26.046499Z",
     "start_time": "2025-01-04T17:17:26.040370Z"
    }
   },
   "cell_type": "code",
   "source": "hash(False)",
   "id": "c47bcd2dda37652a",
   "outputs": [
    {
     "data": {
      "text/plain": [
       "0"
      ]
     },
     "execution_count": 2,
     "metadata": {},
     "output_type": "execute_result"
    }
   ],
   "execution_count": 2
  },
  {
   "metadata": {
    "ExecuteTime": {
     "end_time": "2025-01-04T17:17:46.920803Z",
     "start_time": "2025-01-04T17:17:46.917714Z"
    }
   },
   "cell_type": "code",
   "source": "hash(101)",
   "id": "dee7a998384cb2ee",
   "outputs": [
    {
     "data": {
      "text/plain": [
       "101"
      ]
     },
     "execution_count": 3,
     "metadata": {},
     "output_type": "execute_result"
    }
   ],
   "execution_count": 3
  },
  {
   "metadata": {
    "ExecuteTime": {
     "end_time": "2025-01-04T17:18:01.115888Z",
     "start_time": "2025-01-04T17:18:01.112727Z"
    }
   },
   "cell_type": "code",
   "source": "hash(123456789)",
   "id": "53e949e7017188d",
   "outputs": [
    {
     "data": {
      "text/plain": [
       "123456789"
      ]
     },
     "execution_count": 4,
     "metadata": {},
     "output_type": "execute_result"
    }
   ],
   "execution_count": 4
  },
  {
   "metadata": {
    "ExecuteTime": {
     "end_time": "2025-01-04T17:18:15.704519Z",
     "start_time": "2025-01-04T17:18:15.701150Z"
    }
   },
   "cell_type": "code",
   "source": "hash(-1)",
   "id": "3a3089c8b15a08d6",
   "outputs": [
    {
     "data": {
      "text/plain": [
       "-2"
      ]
     },
     "execution_count": 5,
     "metadata": {},
     "output_type": "execute_result"
    }
   ],
   "execution_count": 5
  },
  {
   "metadata": {},
   "cell_type": "markdown",
   "source": [
    "---\n",
    "\n",
    "## Деякі твердження про хеш-функції, які можна зустріти в літературі:"
   ],
   "id": "ee8756519fb8d789"
  },
  {
   "metadata": {},
   "cell_type": "markdown",
   "source": [
    "### 1. Хеш-функція виконує \"незворотнє перетворення\" обʼєкта в число.\n",
    "\n",
    "![irreversible transformation](pictures/hash_obj.png)"
   ],
   "id": "4a75f31fe86568a6"
  },
  {
   "metadata": {},
   "cell_type": "markdown",
   "source": [
    "тобто: ми можемо отримати значення хеш-функції для обʼєкта, але не можемо відновити обʼєкт з цього значення, навіть знаючи алгоритм хешування.\n",
    "\n",
    "як Ви бачили з попередніх прикладів, хеш-функція не є \"незворотньою\" функцією - принаймі для цілих чисел.\n",
    "Чи означає це що наведене твердження хибне?\n",
    "\n",
    "Ні. Справа в тому що хеш-функції - це доволі широкий клас алгоритмів, і вони бувають дуже різні. Це твердження справедливо для кріптографічних хеш-функцій. Але бувають і інші."
   ],
   "id": "c20312464d6f924c"
  },
  {
   "metadata": {},
   "cell_type": "markdown",
   "source": [
    "### 2. Хеш-функція приймає обʼєкт довільного розміру і повертає значення фіксованого розміру.\n",
    "\n",
    "Доречи - для рядків ми бачимо саме таку поведінку:"
   ],
   "id": "db015365e49d76bb"
  },
  {
   "metadata": {
    "ExecuteTime": {
     "end_time": "2025-01-04T17:40:52.879295Z",
     "start_time": "2025-01-04T17:40:52.875109Z"
    }
   },
   "cell_type": "code",
   "source": "hash(\"a\")",
   "id": "439fc50953d00488",
   "outputs": [
    {
     "data": {
      "text/plain": [
       "5576087518159689980"
      ]
     },
     "execution_count": 13,
     "metadata": {},
     "output_type": "execute_result"
    }
   ],
   "execution_count": 13
  },
  {
   "metadata": {
    "ExecuteTime": {
     "end_time": "2025-01-04T17:40:49.246254Z",
     "start_time": "2025-01-04T17:40:49.243031Z"
    }
   },
   "cell_type": "code",
   "source": "hash(\"ababagalamaga\")",
   "id": "db2b3e605aa3b18d",
   "outputs": [
    {
     "data": {
      "text/plain": [
       "-5564115544573480854"
      ]
     },
     "execution_count": 12,
     "metadata": {},
     "output_type": "execute_result"
    }
   ],
   "execution_count": 12
  },
  {
   "metadata": {
    "ExecuteTime": {
     "end_time": "2025-01-04T17:41:28.911084Z",
     "start_time": "2025-01-04T17:41:28.906513Z"
    }
   },
   "cell_type": "code",
   "source": "hash(\"Python 3.13 is the latest stable release of the Python programming language, with a mix of changes to the language, the implementation and the standard library. The biggest changes include a new interactive interpreter, experimental support for running in a free-threaded mode (PEP 703), and a Just-In-Time compiler (PEP 744).\")",
   "id": "c9f7196ee8df407f",
   "outputs": [
    {
     "data": {
      "text/plain": [
       "1627782227161216888"
      ]
     },
     "execution_count": 14,
     "metadata": {},
     "output_type": "execute_result"
    }
   ],
   "execution_count": 14
  },
  {
   "metadata": {},
   "cell_type": "markdown",
   "source": [
    "але, як Ви бачили з попередніх прикладів, для чисел це не так.\n",
    "\n",
    "Чому так?\n",
    "\n",
    "Ви вже знаєте, що кожен обʼєкт в python \"несе з собою\" всі свої атрибути і можливості. Тобто, наприклад, методи в класі описують поведінку обʼєктів цього класу. І \"магічні методи\" - описують поведінку обʼєктів при взаємодії з певними операторами або в певних ситуаціях (інколи кажуть - виконуючи певні протоколи).\n",
    "\n",
    "Існує магічний метод \"__hash__\" - що описує поведінку обʼєкта при використанні функції hash():\n",
    "\n",
    "## hash(obj) = obj.__hash__()\n",
    "\n",
    "Відповідно - для кожного класу обʼєктів може бути власна реалізація методу __hash__ - а значить і свій алгоритм хешування.\n",
    "\n",
    "А ці алгоритми можуть бути дуже різними - як ми з вами вже знаємо."
   ],
   "id": "445ca3300dbf204e"
  },
  {
   "metadata": {},
   "cell_type": "markdown",
   "source": "### 3. \"Значення хеш-функції для однакових обʼєктів завжди однакове. Завдяки \"незворотності перетворення\" хешування паролів користувачів дає можливість зберегти в БД не паролі, а їх хеш-значення. Якщо зловмисник отримає доступ до вашої БД - він не зможе отримати паролі, а лише їх хеш-значення - які вже не можна відновити в паролі.\"",
   "id": "c3d6f8ca24f4b9e0"
  },
  {
   "metadata": {},
   "cell_type": "markdown",
   "source": "",
   "id": "51ffb039d94bf5a5"
  },
  {
   "metadata": {
    "ExecuteTime": {
     "end_time": "2025-01-04T18:10:14.243167Z",
     "start_time": "2025-01-04T18:10:14.235457Z"
    }
   },
   "cell_type": "code",
   "source": "hash(\"пароль який я використовую часто\")",
   "id": "d111751695eb64e2",
   "outputs": [
    {
     "data": {
      "text/plain": [
       "2759020777864294761"
      ]
     },
     "execution_count": 15,
     "metadata": {},
     "output_type": "execute_result"
    }
   ],
   "execution_count": 15
  },
  {
   "metadata": {},
   "cell_type": "markdown",
   "source": "![auth form](pictures/auth_form.png)",
   "id": "d35eb9862451c620"
  },
  {
   "metadata": {},
   "cell_type": "markdown",
   "source": "",
   "id": "94054234a6364731"
  }
 ],
 "metadata": {
  "kernelspec": {
   "display_name": "Python 3",
   "language": "python",
   "name": "python3"
  },
  "language_info": {
   "codemirror_mode": {
    "name": "ipython",
    "version": 2
   },
   "file_extension": ".py",
   "mimetype": "text/x-python",
   "name": "python",
   "nbconvert_exporter": "python",
   "pygments_lexer": "ipython2",
   "version": "2.7.6"
  }
 },
 "nbformat": 4,
 "nbformat_minor": 5
}
