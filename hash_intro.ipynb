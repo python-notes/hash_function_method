{
 "cells": [
  {
   "metadata": {},
   "cell_type": "markdown",
   "source": [
    "#  HASH\n",
    "\n",
    "---\n",
    "\n",
    "Визначення:\n",
    "\n",
    "хеш-функція - приймає обʼєкт що допускає хешування і повертає числове значення.\n",
    "\n",
    "Операцію отримання для обʼєкта значення хеш-функції інколи називають хешуванням.\n",
    "\n",
    "Python має вбудовану функцію hash() для хешування обʼєктів."
   ],
   "id": "c5bf1acc13144f26"
  },
  {
   "cell_type": "code",
   "id": "initial_id",
   "metadata": {
    "collapsed": true,
    "ExecuteTime": {
     "end_time": "2025-01-12T16:23:47.148775Z",
     "start_time": "2025-01-12T16:23:47.143929Z"
    }
   },
   "source": "hash(\"some string\")",
   "outputs": [
    {
     "data": {
      "text/plain": [
       "-7003137050533436985"
      ]
     },
     "execution_count": 45,
     "metadata": {},
     "output_type": "execute_result"
    }
   ],
   "execution_count": 45
  },
  {
   "metadata": {
    "ExecuteTime": {
     "end_time": "2025-01-12T16:23:55.928854Z",
     "start_time": "2025-01-12T16:23:55.925395Z"
    }
   },
   "cell_type": "code",
   "source": "hash(False)",
   "id": "c47bcd2dda37652a",
   "outputs": [
    {
     "data": {
      "text/plain": [
       "0"
      ]
     },
     "execution_count": 46,
     "metadata": {},
     "output_type": "execute_result"
    }
   ],
   "execution_count": 46
  },
  {
   "metadata": {
    "ExecuteTime": {
     "end_time": "2025-01-12T16:24:13.993872Z",
     "start_time": "2025-01-12T16:24:13.990191Z"
    }
   },
   "cell_type": "code",
   "source": "hash(101)",
   "id": "dee7a998384cb2ee",
   "outputs": [
    {
     "data": {
      "text/plain": [
       "101"
      ]
     },
     "execution_count": 47,
     "metadata": {},
     "output_type": "execute_result"
    }
   ],
   "execution_count": 47
  },
  {
   "metadata": {
    "ExecuteTime": {
     "end_time": "2025-01-12T16:24:26.467690Z",
     "start_time": "2025-01-12T16:24:26.464185Z"
    }
   },
   "cell_type": "code",
   "source": "hash(123456789)",
   "id": "53e949e7017188d",
   "outputs": [
    {
     "data": {
      "text/plain": [
       "123456789"
      ]
     },
     "execution_count": 48,
     "metadata": {},
     "output_type": "execute_result"
    }
   ],
   "execution_count": 48
  },
  {
   "metadata": {
    "ExecuteTime": {
     "end_time": "2025-01-12T16:24:40.723695Z",
     "start_time": "2025-01-12T16:24:40.720672Z"
    }
   },
   "cell_type": "code",
   "source": "hash(-1)",
   "id": "3a3089c8b15a08d6",
   "outputs": [
    {
     "data": {
      "text/plain": [
       "-2"
      ]
     },
     "execution_count": 49,
     "metadata": {},
     "output_type": "execute_result"
    }
   ],
   "execution_count": 49
  },
  {
   "metadata": {},
   "cell_type": "markdown",
   "source": [
    "---\n",
    "\n",
    "## Деякі твердження про хеш-функції, які можна зустріти в літературі:"
   ],
   "id": "ee8756519fb8d789"
  },
  {
   "metadata": {},
   "cell_type": "markdown",
   "source": [
    "### 1. Хеш-функція виконує \"незворотнє перетворення\" обʼєкта в число.\n",
    "\n",
    "![irreversible transformation](pictures/hash_obj.png)"
   ],
   "id": "4a75f31fe86568a6"
  },
  {
   "metadata": {},
   "cell_type": "markdown",
   "source": [
    "тобто: ми можемо отримати значення хеш-функції для обʼєкта, але не можемо відновити обʼєкт з цього значення, навіть знаючи алгоритм хешування.\n",
    "\n",
    "як Ви бачили з попередніх прикладів, хеш-функція не є \"незворотньою\" функцією - принаймі для цілих чисел.\n",
    "Чи означає це що наведене твердження хибне?\n",
    "\n",
    "Ні. Справа в тому що хеш-функції - це доволі широкий клас алгоритмів, і вони бувають дуже різні. Це твердження справедливо для кріптографічних хеш-функцій. Але бувають і інші."
   ],
   "id": "c20312464d6f924c"
  },
  {
   "metadata": {},
   "cell_type": "markdown",
   "source": [
    "### 2. Хеш-функція приймає обʼєкт довільного розміру і повертає значення фіксованого розміру.\n",
    "\n",
    "Доречи - для рядків ми бачимо саме таку поведінку:"
   ],
   "id": "db015365e49d76bb"
  },
  {
   "metadata": {
    "ExecuteTime": {
     "end_time": "2025-01-12T16:26:45.208175Z",
     "start_time": "2025-01-12T16:26:45.204134Z"
    }
   },
   "cell_type": "code",
   "source": "hash(\"a\")",
   "id": "439fc50953d00488",
   "outputs": [
    {
     "data": {
      "text/plain": [
       "8345827218676715222"
      ]
     },
     "execution_count": 50,
     "metadata": {},
     "output_type": "execute_result"
    }
   ],
   "execution_count": 50
  },
  {
   "metadata": {
    "ExecuteTime": {
     "end_time": "2025-01-12T16:26:58.191020Z",
     "start_time": "2025-01-12T16:26:58.187315Z"
    }
   },
   "cell_type": "code",
   "source": "hash(\"ababagalamaga\")",
   "id": "db2b3e605aa3b18d",
   "outputs": [
    {
     "data": {
      "text/plain": [
       "-6005107276331770660"
      ]
     },
     "execution_count": 51,
     "metadata": {},
     "output_type": "execute_result"
    }
   ],
   "execution_count": 51
  },
  {
   "metadata": {
    "ExecuteTime": {
     "end_time": "2025-01-12T16:27:02.939962Z",
     "start_time": "2025-01-12T16:27:02.936475Z"
    }
   },
   "cell_type": "code",
   "source": "hash(\"Python 3.13 is the latest stable release of the Python programming language, with a mix of changes to the language, the implementation and the standard library. The biggest changes include a new interactive interpreter, experimental support for running in a free-threaded mode (PEP 703), and a Just-In-Time compiler (PEP 744).\")",
   "id": "c9f7196ee8df407f",
   "outputs": [
    {
     "data": {
      "text/plain": [
       "-3640777628245663023"
      ]
     },
     "execution_count": 52,
     "metadata": {},
     "output_type": "execute_result"
    }
   ],
   "execution_count": 52
  },
  {
   "metadata": {},
   "cell_type": "markdown",
   "source": [
    "але, як Ви бачили з попередніх прикладів, для чисел це не так.\n",
    "\n",
    "Чому так?\n",
    "\n",
    "Ви вже знаєте, що кожен обʼєкт в python \"несе з собою\" всі свої атрибути і можливості. Тобто, наприклад, методи в класі описують поведінку обʼєктів цього класу. І \"магічні методи\" - описують поведінку обʼєктів при взаємодії з певними операторами або в певних ситуаціях (інколи кажуть - виконуючи певні протоколи).\n",
    "\n",
    "Існує магічний метод \"__hash__\" - що описує поведінку обʼєкта при використанні функції hash():\n",
    "\n",
    "## hash(obj) = obj.\\_\\_hash\\_\\_()\n",
    "\n",
    "Відповідно - для кожного класу обʼєктів може бути власна реалізація методу __hash__ - а значить і свій алгоритм хешування.\n",
    "\n",
    "А ці алгоритми можуть бути дуже різними - як ми з вами вже знаємо."
   ],
   "id": "445ca3300dbf204e"
  },
  {
   "metadata": {},
   "cell_type": "markdown",
   "source": "### 3. \"Значення хеш-функції для однакових обʼєктів завжди однакове. Завдяки \"незворотності перетворення\" хешування паролів користувачів дає можливість зберегти в БД не паролі, а їх хеш-значення. Якщо зловмисник отримає доступ до вашої БД - він не зможе отримати паролі, а лише їх хеш-значення - які вже не можна відновити в паролі.\"",
   "id": "c3d6f8ca24f4b9e0"
  },
  {
   "metadata": {},
   "cell_type": "markdown",
   "source": "",
   "id": "51ffb039d94bf5a5"
  },
  {
   "metadata": {
    "ExecuteTime": {
     "end_time": "2025-01-12T16:30:06.428299Z",
     "start_time": "2025-01-12T16:30:06.421244Z"
    }
   },
   "cell_type": "code",
   "source": "hash(\"пароль що я використовую часто\")",
   "id": "d111751695eb64e2",
   "outputs": [
    {
     "data": {
      "text/plain": [
       "-9146907316442277749"
      ]
     },
     "execution_count": 53,
     "metadata": {},
     "output_type": "execute_result"
    }
   ],
   "execution_count": 53
  },
  {
   "metadata": {},
   "cell_type": "markdown",
   "source": "![auth form](pictures/auth_form_hash.png)",
   "id": "d35eb9862451c620"
  },
  {
   "metadata": {},
   "cell_type": "markdown",
   "source": [
    "показати приклади з використанням хеш-функцій в різних процесах python\n",
    "\n",
    "[документація про hash](https://docs.python.org/3/glossary.html#term-hashable)\n",
    "\n",
    "Python гарантує однакове значення hash-функції для одного обʼєкту лише в період існування цього обʼєкту в межах одного процесу python. При перезапуску процесу - значення hash може бути іншим."
   ],
   "id": "94054234a6364731"
  },
  {
   "metadata": {},
   "cell_type": "markdown",
   "source": [
    "А як же тоді історія з паролями? Хіба це не правда?\n",
    "\n",
    "Ні, це абсолютна правда. Саме так і працюють з паролями. Але ми вже побачили що алгоритми для створення hash-функцій бувають різні. І для обробки паролів використовують інші криптографічні hash-функції. Наприклад - з бібліотеки [hashlib](https://docs.python.org/3/library/hashlib.html)."
   ],
   "id": "aa618f89a7df1b47"
  },
  {
   "metadata": {},
   "cell_type": "markdown",
   "source": [
    "###  Що таке \"хешуваний обʼєкт\" і для яких обʼєктів може бути визначена hash-функція?\n",
    "\n",
    "---\n",
    "\n",
    "- більшість незмінних вбудованих об’єктів Python можна хешувати;\n",
    "- змінні контейнери (такі як списки або словники, множини) ні;\n",
    "- незмінні контейнери (такі як кортежі та заморожені множини) можна хешувати, лише якщо їх елементи хешуються."
   ],
   "id": "c72deba3231df0a5"
  },
  {
   "metadata": {
    "ExecuteTime": {
     "end_time": "2025-01-12T16:35:28.797580Z",
     "start_time": "2025-01-12T16:35:28.768723Z"
    }
   },
   "cell_type": "code",
   "source": "hash([1, 2, 3])",
   "id": "fd7e2f1df698e5a8",
   "outputs": [
    {
     "ename": "TypeError",
     "evalue": "unhashable type: 'list'",
     "output_type": "error",
     "traceback": [
      "\u001B[0;31m---------------------------------------------------------------------------\u001B[0m",
      "\u001B[0;31mTypeError\u001B[0m                                 Traceback (most recent call last)",
      "Cell \u001B[0;32mIn[54], line 1\u001B[0m\n\u001B[0;32m----> 1\u001B[0m \u001B[38;5;28;43mhash\u001B[39;49m\u001B[43m(\u001B[49m\u001B[43m[\u001B[49m\u001B[38;5;241;43m1\u001B[39;49m\u001B[43m,\u001B[49m\u001B[43m \u001B[49m\u001B[38;5;241;43m2\u001B[39;49m\u001B[43m,\u001B[49m\u001B[43m \u001B[49m\u001B[38;5;241;43m3\u001B[39;49m\u001B[43m]\u001B[49m\u001B[43m)\u001B[49m\n",
      "\u001B[0;31mTypeError\u001B[0m: unhashable type: 'list'"
     ]
    }
   ],
   "execution_count": 54
  },
  {
   "metadata": {
    "ExecuteTime": {
     "end_time": "2025-01-12T16:35:39.006876Z",
     "start_time": "2025-01-12T16:35:39.003902Z"
    }
   },
   "cell_type": "code",
   "source": "hash((1, 2, 3))",
   "id": "fbbca1bc9299dd25",
   "outputs": [
    {
     "data": {
      "text/plain": [
       "529344067295497451"
      ]
     },
     "execution_count": 55,
     "metadata": {},
     "output_type": "execute_result"
    }
   ],
   "execution_count": 55
  },
  {
   "metadata": {
    "ExecuteTime": {
     "end_time": "2025-01-12T16:35:52.278845Z",
     "start_time": "2025-01-12T16:35:52.270651Z"
    }
   },
   "cell_type": "code",
   "source": "hash((1, 2, [1, 2]))",
   "id": "18a8cb02a084cf51",
   "outputs": [
    {
     "ename": "TypeError",
     "evalue": "unhashable type: 'list'",
     "output_type": "error",
     "traceback": [
      "\u001B[0;31m---------------------------------------------------------------------------\u001B[0m",
      "\u001B[0;31mTypeError\u001B[0m                                 Traceback (most recent call last)",
      "Cell \u001B[0;32mIn[56], line 1\u001B[0m\n\u001B[0;32m----> 1\u001B[0m \u001B[38;5;28;43mhash\u001B[39;49m\u001B[43m(\u001B[49m\u001B[43m(\u001B[49m\u001B[38;5;241;43m1\u001B[39;49m\u001B[43m,\u001B[49m\u001B[43m \u001B[49m\u001B[38;5;241;43m2\u001B[39;49m\u001B[43m,\u001B[49m\u001B[43m \u001B[49m\u001B[43m[\u001B[49m\u001B[38;5;241;43m1\u001B[39;49m\u001B[43m,\u001B[49m\u001B[43m \u001B[49m\u001B[38;5;241;43m2\u001B[39;49m\u001B[43m]\u001B[49m\u001B[43m)\u001B[49m\u001B[43m)\u001B[49m\n",
      "\u001B[0;31mTypeError\u001B[0m: unhashable type: 'list'"
     ]
    }
   ],
   "execution_count": 56
  },
  {
   "metadata": {},
   "cell_type": "markdown",
   "source": [
    "---\n",
    "\n",
    "## якщо обʼєкт можна хешувати - він може бути ключем словника або елементом множини.\n",
    "\n",
    "#### P.S. недарма словники називаються \"хеш-таблицями\" - вони використовують хеш-значення ключів для швидкого доступу до значень. Але це тема для іншого відеоролика. Буде і такий - підписуйтесь.\n",
    "\n",
    "---"
   ],
   "id": "71eb43ae701b930f"
  },
  {
   "metadata": {},
   "cell_type": "markdown",
   "source": "## Хеш-функції для користувацьких класів",
   "id": "24d0cd3f45d2e305"
  },
  {
   "metadata": {},
   "cell_type": "markdown",
   "source": "###  Поведінка за замовченням.",
   "id": "ab661884733f85b6"
  },
  {
   "metadata": {
    "ExecuteTime": {
     "end_time": "2025-01-12T16:39:46.531502Z",
     "start_time": "2025-01-12T16:39:46.527388Z"
    }
   },
   "cell_type": "code",
   "source": [
    "class User:\n",
    "    def __init__(self, username: str, email: str) -> None:\n",
    "        self.username = username\n",
    "        self.email = email\n",
    "\n",
    "    def __repr__(self):\n",
    "        return f\"User({self.username}, {self.email})\""
   ],
   "id": "988f523c2fbcd451",
   "outputs": [],
   "execution_count": 57
  },
  {
   "metadata": {
    "ExecuteTime": {
     "end_time": "2025-01-12T16:40:17.137110Z",
     "start_time": "2025-01-12T16:40:17.134703Z"
    }
   },
   "cell_type": "code",
   "source": [
    "user_1 = User(\"test_1\", \"test_1@test.test\")\n",
    "user_2 = User(\"test_2\", \"test_2@test.test\")"
   ],
   "id": "8a294314b31917bc",
   "outputs": [],
   "execution_count": 58
  },
  {
   "metadata": {
    "ExecuteTime": {
     "end_time": "2025-01-12T16:40:22.440181Z",
     "start_time": "2025-01-12T16:40:22.435991Z"
    }
   },
   "cell_type": "code",
   "source": "hash(user_1), hash(user_2)",
   "id": "50c8bb5267f08c2",
   "outputs": [
    {
     "data": {
      "text/plain": [
       "(273402617, 274273585)"
      ]
     },
     "execution_count": 59,
     "metadata": {},
     "output_type": "execute_result"
    }
   ],
   "execution_count": 59
  },
  {
   "metadata": {
    "ExecuteTime": {
     "end_time": "2025-01-12T16:40:29.196608Z",
     "start_time": "2025-01-12T16:40:29.192395Z"
    }
   },
   "cell_type": "code",
   "source": "user_1.__hash__()",
   "id": "75bf108838c4a14f",
   "outputs": [
    {
     "data": {
      "text/plain": [
       "273402617"
      ]
     },
     "execution_count": 60,
     "metadata": {},
     "output_type": "execute_result"
    }
   ],
   "execution_count": 60
  },
  {
   "metadata": {},
   "cell_type": "markdown",
   "source": [
    "За замовченням кожен користувацький клас має реалізацію методу __hash__ яка використовується для хешування обʼєктів класу. Ця реалізація використовує id() обʼєкта - тобто для кожного обʼєкта класу буде використано його унікальний ідентифікатор.\n",
    "\n",
    "Якщо така поведінка не підходить - можна перевизначити метод __hash__ для класу.\n",
    "\n",
    "Наприклад: ми пишемо сайт і у нас користувачі розрізняються по їх email. Це є унікальний ідентифікатор користувача і двох однакових бути не може. Тобто - ми вважаємо що користувачі різні, якщо вони мають різні email. Тоді можна перевизначити метод __hash__ для класу User:"
   ],
   "id": "9a25b5cb0ac44fbe"
  },
  {
   "metadata": {
    "ExecuteTime": {
     "end_time": "2025-01-12T16:42:33.810026Z",
     "start_time": "2025-01-12T16:42:33.804713Z"
    }
   },
   "cell_type": "code",
   "source": [
    "user_1_copy = User(\"test_1\", \"test_1@test.test\")\n",
    "hash(user_1_copy), hash(user_1)"
   ],
   "id": "6956214415780f77",
   "outputs": [
    {
     "data": {
      "text/plain": [
       "(273283397, 273402617)"
      ]
     },
     "execution_count": 61,
     "metadata": {},
     "output_type": "execute_result"
    }
   ],
   "execution_count": 61
  },
  {
   "metadata": {
    "ExecuteTime": {
     "end_time": "2025-01-12T16:43:15.106913Z",
     "start_time": "2025-01-12T16:43:15.103374Z"
    }
   },
   "cell_type": "code",
   "source": [
    "class User:\n",
    "    def __init__(self, username: str, email: str) -> None:\n",
    "        self.username = username\n",
    "        self.email = email\n",
    "\n",
    "    def __repr__(self):\n",
    "        return f\"User({self.username}, {self.email})\"\n",
    "\n",
    "    def __hash__(self):\n",
    "        return hash(self.email)"
   ],
   "id": "c827f2fd0e775319",
   "outputs": [],
   "execution_count": 62
  },
  {
   "metadata": {},
   "cell_type": "markdown",
   "source": "",
   "id": "2d4db4632730f693"
  },
  {
   "metadata": {},
   "cell_type": "markdown",
   "source": "тепер ми можемо екземпляри класу User використовувати як ключі в словниках або елементи множини:",
   "id": "89111b6266de3c60"
  },
  {
   "metadata": {
    "ExecuteTime": {
     "end_time": "2025-01-12T16:43:35.060289Z",
     "start_time": "2025-01-12T16:43:35.055067Z"
    }
   },
   "cell_type": "code",
   "source": [
    "user1 = User(\"USER1\", \"user1@user.user\")\n",
    "user2 = User(\"user1\", \"user1@user.user\")\n",
    "user1 is user2"
   ],
   "id": "ccd89b42f6b7fc1e",
   "outputs": [
    {
     "data": {
      "text/plain": [
       "False"
      ]
     },
     "execution_count": 63,
     "metadata": {},
     "output_type": "execute_result"
    }
   ],
   "execution_count": 63
  },
  {
   "metadata": {
    "ExecuteTime": {
     "end_time": "2025-01-12T16:43:41.632896Z",
     "start_time": "2025-01-12T16:43:41.628454Z"
    }
   },
   "cell_type": "code",
   "source": "hash(user1), hash(user2)",
   "id": "95b917d13ffbc01a",
   "outputs": [
    {
     "data": {
      "text/plain": [
       "(4509677507545669266, 4509677507545669266)"
      ]
     },
     "execution_count": 64,
     "metadata": {},
     "output_type": "execute_result"
    }
   ],
   "execution_count": 64
  },
  {
   "metadata": {
    "ExecuteTime": {
     "end_time": "2025-01-12T16:44:45.742599Z",
     "start_time": "2025-01-12T16:44:45.739808Z"
    }
   },
   "cell_type": "code",
   "source": [
    "users_set = set()\n",
    "users_set.add(user1)\n",
    "users_set.add(user2)\n",
    "users_set"
   ],
   "id": "cd6047d96a87d979",
   "outputs": [
    {
     "data": {
      "text/plain": [
       "{User(USER1, user1@user.user), User(user1, user1@user.user)}"
      ]
     },
     "execution_count": 65,
     "metadata": {},
     "output_type": "execute_result"
    }
   ],
   "execution_count": 65
  },
  {
   "metadata": {},
   "cell_type": "markdown",
   "source": "Справа в тому, що визначення унікальності в Python має більш складну природу. Незважаючи на те, що ці обʼєкти мають однаковий хеш - вони для нас не є рівними:",
   "id": "3d9439fed6fb61c6"
  },
  {
   "metadata": {
    "ExecuteTime": {
     "end_time": "2025-01-12T16:45:26.584022Z",
     "start_time": "2025-01-12T16:45:26.581199Z"
    }
   },
   "cell_type": "code",
   "source": "user1 == user2",
   "id": "11b8f53839ee4f63",
   "outputs": [
    {
     "data": {
      "text/plain": [
       "False"
      ]
     },
     "execution_count": 66,
     "metadata": {},
     "output_type": "execute_result"
    }
   ],
   "execution_count": 66
  },
  {
   "metadata": {},
   "cell_type": "markdown",
   "source": [
    "Тому що ми не перевизначали метод __eq__ для класу User. І за замовченням він використовує порівняння по id() обʼєкта. І для двох обʼєктів класу User - це завжди будуть різні обʼєкти, а значить вони не рівні. Є ще одно правило якеого треба притримуватись якщо Ви бажаєте очікуваної поведінки від своїх обʼєктів:\n",
    "\n",
    "## Якщо a == b, то hash(a) == hash(b)\n",
    "\n",
    "недостатньо однакових значень хешу - обʼєкти повинні дорівнювати один одному:"
   ],
   "id": "45f8527cfe031632"
  },
  {
   "metadata": {
    "ExecuteTime": {
     "end_time": "2025-01-12T16:46:39.157292Z",
     "start_time": "2025-01-12T16:46:39.153847Z"
    }
   },
   "cell_type": "code",
   "source": [
    "class User:\n",
    "    def __init__(self, username: str, email: str) -> None:\n",
    "        self.username = username\n",
    "        self.email = email\n",
    "\n",
    "    def __repr__(self):\n",
    "        return f\"User({self.username}, {self.email})\"\n",
    "\n",
    "    def __hash__(self):\n",
    "        return hash(self.email)\n",
    "\n",
    "    def __eq__(self, other):\n",
    "        return isinstance(other, type(self)) and self.email == other.email"
   ],
   "id": "983ab0b25f6ae523",
   "outputs": [],
   "execution_count": 67
  },
  {
   "metadata": {
    "ExecuteTime": {
     "end_time": "2025-01-12T16:46:42.010325Z",
     "start_time": "2025-01-12T16:46:42.005917Z"
    }
   },
   "cell_type": "code",
   "source": [
    "user1 = User(\"USER1\", \"user1@user.user\")\n",
    "user2 = User(\"user1\", \"user1@user.user\")\n",
    "user1 is user2"
   ],
   "id": "7b018279992a5ac4",
   "outputs": [
    {
     "data": {
      "text/plain": [
       "False"
      ]
     },
     "execution_count": 68,
     "metadata": {},
     "output_type": "execute_result"
    }
   ],
   "execution_count": 68
  },
  {
   "metadata": {
    "ExecuteTime": {
     "end_time": "2025-01-12T16:46:47.765674Z",
     "start_time": "2025-01-12T16:46:47.762638Z"
    }
   },
   "cell_type": "code",
   "source": "hash(user1), hash(user2)",
   "id": "e20d0da4782dd0be",
   "outputs": [
    {
     "data": {
      "text/plain": [
       "(4509677507545669266, 4509677507545669266)"
      ]
     },
     "execution_count": 69,
     "metadata": {},
     "output_type": "execute_result"
    }
   ],
   "execution_count": 69
  },
  {
   "metadata": {
    "ExecuteTime": {
     "end_time": "2025-01-12T16:46:54.303581Z",
     "start_time": "2025-01-12T16:46:54.300563Z"
    }
   },
   "cell_type": "code",
   "source": "user1 == user2",
   "id": "4dcfeca82635b72b",
   "outputs": [
    {
     "data": {
      "text/plain": [
       "True"
      ]
     },
     "execution_count": 70,
     "metadata": {},
     "output_type": "execute_result"
    }
   ],
   "execution_count": 70
  },
  {
   "metadata": {
    "ExecuteTime": {
     "end_time": "2025-01-12T16:46:59.263194Z",
     "start_time": "2025-01-12T16:46:59.259894Z"
    }
   },
   "cell_type": "code",
   "source": [
    "users_set = set()\n",
    "users_set.add(user1)\n",
    "users_set.add(user2)\n",
    "users_set"
   ],
   "id": "4123ac82ac0d9660",
   "outputs": [
    {
     "data": {
      "text/plain": [
       "{User(USER1, user1@user.user)}"
      ]
     },
     "execution_count": 71,
     "metadata": {},
     "output_type": "execute_result"
    }
   ],
   "execution_count": 71
  },
  {
   "metadata": {},
   "cell_type": "markdown",
   "source": "и тепер ми можем використовувати обʼєкти класу User як ключі в словниках або елементи множини - і вони не будуть дублюватись",
   "id": "57458c1ae9e34f31"
  },
  {
   "metadata": {
    "ExecuteTime": {
     "end_time": "2025-01-12T16:47:46.697799Z",
     "start_time": "2025-01-12T16:47:46.695420Z"
    }
   },
   "cell_type": "code",
   "source": "users_dict = {user1: \"user1\", user2: \"user2\"}",
   "id": "4b65bebc5de617f8",
   "outputs": [],
   "execution_count": 72
  },
  {
   "metadata": {
    "ExecuteTime": {
     "end_time": "2025-01-12T16:47:48.402928Z",
     "start_time": "2025-01-12T16:47:48.399618Z"
    }
   },
   "cell_type": "code",
   "source": "users_dict",
   "id": "809b38e08ba3b3a3",
   "outputs": [
    {
     "data": {
      "text/plain": [
       "{User(USER1, user1@user.user): 'user2'}"
      ]
     },
     "execution_count": 73,
     "metadata": {},
     "output_type": "execute_result"
    }
   ],
   "execution_count": 73
  },
  {
   "metadata": {},
   "cell_type": "markdown",
   "source": [
    "Тобто: правильною поведінкою буде визначати метод __eq__ для класу, якщо Ви перевизначаєте метод __hash__:\n",
    "\n",
    "## Якщо a == b, то hash(a) == hash(b)\n",
    "\n",
    "але це не все)"
   ],
   "id": "a253668903ee2247"
  },
  {
   "metadata": {
    "ExecuteTime": {
     "end_time": "2025-01-12T16:48:36.967954Z",
     "start_time": "2025-01-12T16:48:36.959602Z"
    }
   },
   "cell_type": "code",
   "source": "user1 in users_set, user1 in users_dict",
   "id": "c227ffe9ff1d683",
   "outputs": [
    {
     "data": {
      "text/plain": [
       "(True, True)"
      ]
     },
     "execution_count": 74,
     "metadata": {},
     "output_type": "execute_result"
    }
   ],
   "execution_count": 74
  },
  {
   "metadata": {
    "ExecuteTime": {
     "end_time": "2025-01-12T16:48:56.876344Z",
     "start_time": "2025-01-12T16:48:56.873743Z"
    }
   },
   "cell_type": "code",
   "source": "user1.email = 'new_email@test.test'",
   "id": "338f183e9abc26d0",
   "outputs": [],
   "execution_count": 75
  },
  {
   "metadata": {
    "ExecuteTime": {
     "end_time": "2025-01-12T16:49:16.846108Z",
     "start_time": "2025-01-12T16:49:16.842382Z"
    }
   },
   "cell_type": "code",
   "source": "user1 in users_set, user1 in users_dict",
   "id": "5b9572cb0669e666",
   "outputs": [
    {
     "data": {
      "text/plain": [
       "(False, False)"
      ]
     },
     "execution_count": 76,
     "metadata": {},
     "output_type": "execute_result"
    }
   ],
   "execution_count": 76
  },
  {
   "metadata": {
    "ExecuteTime": {
     "end_time": "2025-01-12T16:49:22.259418Z",
     "start_time": "2025-01-12T16:49:22.239797Z"
    }
   },
   "cell_type": "code",
   "source": "users_dict",
   "id": "7dcdb56674fc092c",
   "outputs": [
    {
     "ename": "KeyError",
     "evalue": "User(USER1, new_email@test.test)",
     "output_type": "error",
     "traceback": [
      "\u001B[0;31m---------------------------------------------------------------------------\u001B[0m",
      "\u001B[0;31mKeyError\u001B[0m                                  Traceback (most recent call last)",
      "File \u001B[0;32m~/Desktop/documents/code_for_video/hash_function_method/.venv/lib/python3.13/site-packages/IPython/core/formatters.py:770\u001B[0m, in \u001B[0;36mPlainTextFormatter.__call__\u001B[0;34m(self, obj)\u001B[0m\n\u001B[1;32m    763\u001B[0m stream \u001B[38;5;241m=\u001B[39m StringIO()\n\u001B[1;32m    764\u001B[0m printer \u001B[38;5;241m=\u001B[39m pretty\u001B[38;5;241m.\u001B[39mRepresentationPrinter(stream, \u001B[38;5;28mself\u001B[39m\u001B[38;5;241m.\u001B[39mverbose,\n\u001B[1;32m    765\u001B[0m     \u001B[38;5;28mself\u001B[39m\u001B[38;5;241m.\u001B[39mmax_width, \u001B[38;5;28mself\u001B[39m\u001B[38;5;241m.\u001B[39mnewline,\n\u001B[1;32m    766\u001B[0m     max_seq_length\u001B[38;5;241m=\u001B[39m\u001B[38;5;28mself\u001B[39m\u001B[38;5;241m.\u001B[39mmax_seq_length,\n\u001B[1;32m    767\u001B[0m     singleton_pprinters\u001B[38;5;241m=\u001B[39m\u001B[38;5;28mself\u001B[39m\u001B[38;5;241m.\u001B[39msingleton_printers,\n\u001B[1;32m    768\u001B[0m     type_pprinters\u001B[38;5;241m=\u001B[39m\u001B[38;5;28mself\u001B[39m\u001B[38;5;241m.\u001B[39mtype_printers,\n\u001B[1;32m    769\u001B[0m     deferred_pprinters\u001B[38;5;241m=\u001B[39m\u001B[38;5;28mself\u001B[39m\u001B[38;5;241m.\u001B[39mdeferred_printers)\n\u001B[0;32m--> 770\u001B[0m \u001B[43mprinter\u001B[49m\u001B[38;5;241;43m.\u001B[39;49m\u001B[43mpretty\u001B[49m\u001B[43m(\u001B[49m\u001B[43mobj\u001B[49m\u001B[43m)\u001B[49m\n\u001B[1;32m    771\u001B[0m printer\u001B[38;5;241m.\u001B[39mflush()\n\u001B[1;32m    772\u001B[0m \u001B[38;5;28;01mreturn\u001B[39;00m stream\u001B[38;5;241m.\u001B[39mgetvalue()\n",
      "File \u001B[0;32m~/Desktop/documents/code_for_video/hash_function_method/.venv/lib/python3.13/site-packages/IPython/lib/pretty.py:394\u001B[0m, in \u001B[0;36mRepresentationPrinter.pretty\u001B[0;34m(self, obj)\u001B[0m\n\u001B[1;32m    391\u001B[0m \u001B[38;5;28;01mfor\u001B[39;00m \u001B[38;5;28mcls\u001B[39m \u001B[38;5;129;01min\u001B[39;00m _get_mro(obj_class):\n\u001B[1;32m    392\u001B[0m     \u001B[38;5;28;01mif\u001B[39;00m \u001B[38;5;28mcls\u001B[39m \u001B[38;5;129;01min\u001B[39;00m \u001B[38;5;28mself\u001B[39m\u001B[38;5;241m.\u001B[39mtype_pprinters:\n\u001B[1;32m    393\u001B[0m         \u001B[38;5;66;03m# printer registered in self.type_pprinters\u001B[39;00m\n\u001B[0;32m--> 394\u001B[0m         \u001B[38;5;28;01mreturn\u001B[39;00m \u001B[38;5;28;43mself\u001B[39;49m\u001B[38;5;241;43m.\u001B[39;49m\u001B[43mtype_pprinters\u001B[49m\u001B[43m[\u001B[49m\u001B[38;5;28;43mcls\u001B[39;49m\u001B[43m]\u001B[49m\u001B[43m(\u001B[49m\u001B[43mobj\u001B[49m\u001B[43m,\u001B[49m\u001B[43m \u001B[49m\u001B[38;5;28;43mself\u001B[39;49m\u001B[43m,\u001B[49m\u001B[43m \u001B[49m\u001B[43mcycle\u001B[49m\u001B[43m)\u001B[49m\n\u001B[1;32m    395\u001B[0m     \u001B[38;5;28;01melse\u001B[39;00m:\n\u001B[1;32m    396\u001B[0m         \u001B[38;5;66;03m# deferred printer\u001B[39;00m\n\u001B[1;32m    397\u001B[0m         printer \u001B[38;5;241m=\u001B[39m \u001B[38;5;28mself\u001B[39m\u001B[38;5;241m.\u001B[39m_in_deferred_types(\u001B[38;5;28mcls\u001B[39m)\n",
      "File \u001B[0;32m~/Desktop/documents/code_for_video/hash_function_method/.venv/lib/python3.13/site-packages/IPython/lib/pretty.py:701\u001B[0m, in \u001B[0;36m_dict_pprinter_factory.<locals>.inner\u001B[0;34m(obj, p, cycle)\u001B[0m\n\u001B[1;32m    699\u001B[0m     p\u001B[38;5;241m.\u001B[39mpretty(key)\n\u001B[1;32m    700\u001B[0m     p\u001B[38;5;241m.\u001B[39mtext(\u001B[38;5;124m'\u001B[39m\u001B[38;5;124m: \u001B[39m\u001B[38;5;124m'\u001B[39m)\n\u001B[0;32m--> 701\u001B[0m     p\u001B[38;5;241m.\u001B[39mpretty(\u001B[43mobj\u001B[49m\u001B[43m[\u001B[49m\u001B[43mkey\u001B[49m\u001B[43m]\u001B[49m)\n\u001B[1;32m    702\u001B[0m p\u001B[38;5;241m.\u001B[39mend_group(step, end)\n",
      "\u001B[0;31mKeyError\u001B[0m: User(USER1, new_email@test.test)"
     ]
    }
   ],
   "execution_count": 77
  },
  {
   "metadata": {
    "ExecuteTime": {
     "end_time": "2025-01-12T16:49:26.007629Z",
     "start_time": "2025-01-12T16:49:26.004113Z"
    }
   },
   "cell_type": "code",
   "source": "users_set",
   "id": "63340ffe9a333334",
   "outputs": [
    {
     "data": {
      "text/plain": [
       "{User(USER1, new_email@test.test)}"
      ]
     },
     "execution_count": 78,
     "metadata": {},
     "output_type": "execute_result"
    }
   ],
   "execution_count": 78
  },
  {
   "metadata": {},
   "cell_type": "markdown",
   "source": [
    "ще одна важлива умова:\n",
    "\n",
    "##  Хеш обʼєкта ніколи не повинен змінюватись протягом життєвого циклу цього обʼєкту\n",
    "\n",
    "* ми говоримо саме про той хеш, що використовується в хеш-таблицях (словниках, множинах)"
   ],
   "id": "69f7247768317817"
  },
  {
   "metadata": {
    "ExecuteTime": {
     "end_time": "2025-01-12T16:51:36.857115Z",
     "start_time": "2025-01-12T16:51:36.852700Z"
    }
   },
   "cell_type": "code",
   "source": [
    "class User:\n",
    "    def __init__(self, username: str, email: str) -> None:\n",
    "        self.username = username\n",
    "        self._email = email\n",
    "\n",
    "    @property  #  це декоратор для створення властивостей класу. Поговоримо детально про це пізніше. Підписуйтесь)\n",
    "    def email(self):\n",
    "        return self._email\n",
    "\n",
    "    @email.setter\n",
    "    def email(self, value):\n",
    "        raise TypeError(f\"{self.__class__.__name__} object is immutable. Can't change email.\")\n",
    "\n",
    "    def __repr__(self):\n",
    "        return f\"User({self.username}, {self.email})\"\n",
    "\n",
    "    def __hash__(self):\n",
    "        return hash(self.email)\n",
    "\n",
    "    def __eq__(self, other):\n",
    "        if not isinstance(other, type(self)):\n",
    "            return NotImplemented\n",
    "        return self.email == other.email"
   ],
   "id": "6a8a50a8d849325b",
   "outputs": [],
   "execution_count": 79
  },
  {
   "metadata": {
    "ExecuteTime": {
     "end_time": "2025-01-12T16:51:40.558567Z",
     "start_time": "2025-01-12T16:51:40.555985Z"
    }
   },
   "cell_type": "code",
   "source": "user1 = User(\"USER1\", \"user1@user.user\")",
   "id": "fe8a347d2437a7ac",
   "outputs": [],
   "execution_count": 80
  },
  {
   "metadata": {
    "ExecuteTime": {
     "end_time": "2025-01-12T16:51:47.847479Z",
     "start_time": "2025-01-12T16:51:47.829815Z"
    }
   },
   "cell_type": "code",
   "source": "user1.email = \"new_email@test.test\"",
   "id": "b22ae6579541a388",
   "outputs": [
    {
     "ename": "TypeError",
     "evalue": "User object is immutable. Can't change email.",
     "output_type": "error",
     "traceback": [
      "\u001B[0;31m---------------------------------------------------------------------------\u001B[0m",
      "\u001B[0;31mTypeError\u001B[0m                                 Traceback (most recent call last)",
      "Cell \u001B[0;32mIn[81], line 1\u001B[0m\n\u001B[0;32m----> 1\u001B[0m \u001B[43muser1\u001B[49m\u001B[38;5;241;43m.\u001B[39;49m\u001B[43memail\u001B[49m \u001B[38;5;241m=\u001B[39m \u001B[38;5;124m\"\u001B[39m\u001B[38;5;124mnew_email@test.test\u001B[39m\u001B[38;5;124m\"\u001B[39m\n",
      "Cell \u001B[0;32mIn[79], line 12\u001B[0m, in \u001B[0;36mUser.email\u001B[0;34m(self, value)\u001B[0m\n\u001B[1;32m     10\u001B[0m \u001B[38;5;129m@email\u001B[39m\u001B[38;5;241m.\u001B[39msetter\n\u001B[1;32m     11\u001B[0m \u001B[38;5;28;01mdef\u001B[39;00m \u001B[38;5;21memail\u001B[39m(\u001B[38;5;28mself\u001B[39m, value):\n\u001B[0;32m---> 12\u001B[0m     \u001B[38;5;28;01mraise\u001B[39;00m \u001B[38;5;167;01mTypeError\u001B[39;00m(\u001B[38;5;124mf\u001B[39m\u001B[38;5;124m\"\u001B[39m\u001B[38;5;132;01m{\u001B[39;00m\u001B[38;5;28mself\u001B[39m\u001B[38;5;241m.\u001B[39m\u001B[38;5;18m__class__\u001B[39m\u001B[38;5;241m.\u001B[39m\u001B[38;5;18m__name__\u001B[39m\u001B[38;5;132;01m}\u001B[39;00m\u001B[38;5;124m object is immutable. Can\u001B[39m\u001B[38;5;124m'\u001B[39m\u001B[38;5;124mt change email.\u001B[39m\u001B[38;5;124m\"\u001B[39m)\n",
      "\u001B[0;31mTypeError\u001B[0m: User object is immutable. Can't change email."
     ]
    }
   ],
   "execution_count": 81
  },
  {
   "metadata": {},
   "cell_type": "markdown",
   "source": "### Важливо пам'ятати: всі ці складні конструкції треба використовувати лише тоді коли Ви точно розумієте що це потрібно: ви дійсно плануєте використовувати обʼєкти класу як ключі в словниках або елементи множини. Інакше - це може призвести до непотрібної складності коду і зниження продуктивності. Ніколи не пишіть код \"на виріст\".",
   "id": "a20b937ff1c12c4"
  }
 ],
 "metadata": {
  "kernelspec": {
   "display_name": "Python 3",
   "language": "python",
   "name": "python3"
  },
  "language_info": {
   "codemirror_mode": {
    "name": "ipython",
    "version": 2
   },
   "file_extension": ".py",
   "mimetype": "text/x-python",
   "name": "python",
   "nbconvert_exporter": "python",
   "pygments_lexer": "ipython2",
   "version": "2.7.6"
  }
 },
 "nbformat": 4,
 "nbformat_minor": 5
}
